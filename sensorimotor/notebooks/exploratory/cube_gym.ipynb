{
 "cells": [
  {
   "cell_type": "code",
   "execution_count": 2,
   "metadata": {},
   "outputs": [],
   "source": [
    "import copy\n",
    "import time\n",
    "import numpy as np\n",
    "np.set_printoptions(precision=8, suppress=True, linewidth=400, threshold=100)\n",
    "import gym"
   ]
  },
  {
   "cell_type": "code",
   "execution_count": 39,
   "metadata": {},
   "outputs": [],
   "source": [
    "class RubixCube(gym.Env):\n",
    "    metadata = {'render.modes': ['human']}\n",
    "    def __init__(self):\n",
    "        super(RubixCube, self).__init__()\n",
    "        self.action_space = self._action_space()\n",
    "        self.observation_space = self._observation_space()\n",
    "        # should change the state to be a list of np array?\n",
    "        self.cube_state = {\n",
    "            1: 'top', 2: 'top', 3: 'top', 4: 'top',\n",
    "            5: 'top', 6: 'top', 7: 'top', 8: 'top',\n",
    "            9: 'left',\n",
    "            10: 'front', 11: 'front', 12: 'front',\n",
    "            13: 'right', 14: 'right', 15: 'right',\n",
    "            16: 'back', 17: 'back', 18: 'back',\n",
    "            19: 'left', 20: 'left', 21: 'left',\n",
    "            22: 'front', 23: 'front',\n",
    "            24: 'right', 25: 'right',\n",
    "            26: 'back', 27: 'back',\n",
    "            28: 'left', 29: 'left',\n",
    "            30: 'front', 31: 'front', 32: 'front',\n",
    "            33: 'right', 34: 'right', 35: 'right',\n",
    "            36: 'back', 37: 'back', 38: 'back',\n",
    "            39: 'left', 40: 'left',\n",
    "            41: 'under', 42: 'under', 43: 'under', 44: 'under',\n",
    "            45: 'under', 46: 'under', 47: 'under', 48: 'under'}\n",
    "        self.solved_state = copy.deepcopy(self.cube_state)\n",
    "        self.do_right = {\n",
    "            3: 16, 16: 45, 45: 32, 32: 3,\n",
    "            4: 26, 26: 44, 44: 23, 23: 4,\n",
    "            5: 36, 36: 43, 43: 12, 12: 5,\n",
    "            14: 25, 25: 34, 34: 24, 24: 14,\n",
    "            35: 33, 33: 13, 13: 15, 15: 35, }\n",
    "        self.do_left = {\n",
    "            7: 10, 10: 41, 41: 38, 38: 7,\n",
    "            8: 22, 22: 48, 48: 27, 27: 8,\n",
    "            1: 30, 30: 47, 47: 18, 18: 1,\n",
    "            19: 9, 9: 29, 29: 39, 39: 19,\n",
    "            20: 21, 21: 40, 40: 28, 28: 20, }\n",
    "        self.do_top = {\n",
    "            9: 12, 12: 15, 15: 18, 18: 9,\n",
    "            10: 13, 13: 16, 16: 19, 19: 10,\n",
    "            11: 14, 14: 17, 17: 20, 20: 11,\n",
    "            1: 3, 3: 5, 5: 7, 7: 1,\n",
    "            2: 4, 4: 6, 6: 8, 8: 2, }\n",
    "        self.do_under = {\n",
    "            30: 33, 33: 36, 36: 39, 39: 30,\n",
    "            31: 34, 34: 37, 37: 40, 40: 31,\n",
    "            32: 35, 35: 38, 38: 29, 29: 32,\n",
    "            41: 43, 43: 45, 45: 47, 47: 41,\n",
    "            42: 44, 44: 46, 46: 48, 48: 42, }\n",
    "        self.do_front = {\n",
    "            1: 13, 13: 43, 43: 29, 29: 1,\n",
    "            2: 24, 24: 42, 42: 21, 21: 2,\n",
    "            3: 33, 33: 41, 41: 9, 9: 3,\n",
    "            10: 12, 12: 32, 32: 30, 30: 10,\n",
    "            11: 23, 23: 31, 31: 22, 22: 11, }\n",
    "        self.do_back = {\n",
    "            7: 15, 15: 45, 45: 39, 39: 7,\n",
    "            6: 25, 25: 46, 46: 28, 28: 6,\n",
    "            5: 35, 35: 47, 47: 19, 19: 5,\n",
    "            18: 16, 16: 36, 36: 38, 38: 18,\n",
    "            17: 26, 26: 37, 37: 27, 27: 17, }\n",
    "    def step(self, action):\n",
    "        return self._request(action)\n",
    "    def reset(self):\n",
    "        return self._request(None)[0]\n",
    "    def render(self, mode='human', close=False):\n",
    "        action, obs, reward, done, info = self.state\n",
    "        if action == None: print(\"{}\\n\".format(obs))\n",
    "        else: print(\"{}\\t\\t--> {:.18f}{}\\n{}\\n\".format(action, reward, (' DONE!' if done else ''), obs))\n",
    "\n",
    "    def _action_space(self):\n",
    "        '''\n",
    "        left, right, top, under, front, back\n",
    "        this is a deterministic env, it doesn't change unless you change it,\n",
    "        therefore, no opperation isn't available.\n",
    "        '''\n",
    "        return gym.spaces.Discrete(6)\n",
    "\n",
    "    def _observation_space(self):\n",
    "        return gym.spaces.Box(low=np.NINF, high=np.inf, shape=(48,), dtype=np.float64)\n",
    "\n",
    "    def _request(self, action):\n",
    "        cube = copy.deepcopy(self.cube_state)\n",
    "        action = {\n",
    "            0: 'left', 1: 'right',\n",
    "            2: 'top', 3: 'under',\n",
    "            4: 'front', 5: 'back'}.get(action, None)\n",
    "        if action is not None:\n",
    "            for k, v in eval(f'self.do_{action}').items():\n",
    "                self.cube_state[k] = cube[v]\n",
    "        obs = self.cube_state\n",
    "        reward = np.float64(0.0)  # real AGI doesn't need spoonfed 'rewards'\n",
    "        done = False\n",
    "        info = {}\n",
    "        self.state = (action, obs, reward, done, info)\n",
    "        return obs, reward, done, info"
   ]
  },
  {
   "cell_type": "code",
   "execution_count": 40,
   "metadata": {},
   "outputs": [],
   "source": [
    "def step(obs): # agent proxy\n",
    "    sampled = env.action_space.sample()\n",
    "    print(f'action sampled: {sampled}')\n",
    "    return sampled"
   ]
  },
  {
   "cell_type": "code",
   "execution_count": 41,
   "metadata": {},
   "outputs": [],
   "source": [
    "env = RubixCube()"
   ]
  },
  {
   "cell_type": "code",
   "execution_count": 42,
   "metadata": {},
   "outputs": [],
   "source": [
    "env.seed(0)"
   ]
  },
  {
   "cell_type": "code",
   "execution_count": 43,
   "metadata": {},
   "outputs": [
    {
     "name": "stdout",
     "output_type": "stream",
     "text": [
      "agent: env.action_space Discrete(6)\n"
     ]
    }
   ],
   "source": [
    "print(\"agent: env.action_space {}\".format(env.action_space))"
   ]
  },
  {
   "cell_type": "code",
   "execution_count": 44,
   "metadata": {},
   "outputs": [
    {
     "name": "stdout",
     "output_type": "stream",
     "text": [
      "{1: 'top', 2: 'top', 3: 'top', 4: 'top', 5: 'top', 6: 'top', 7: 'top', 8: 'top', 9: 'left', 10: 'front', 11: 'front', 12: 'front', 13: 'right', 14: 'right', 15: 'right', 16: 'back', 17: 'back', 18: 'back', 19: 'left', 20: 'left', 21: 'left', 22: 'front', 23: 'front', 24: 'right', 25: 'right', 26: 'back', 27: 'back', 28: 'left', 29: 'left', 30: 'front', 31: 'front', 32: 'front', 33: 'right', 34: 'right', 35: 'right', 36: 'back', 37: 'back', 38: 'back', 39: 'left', 40: 'left', 41: 'under', 42: 'under', 43: 'under', 44: 'under', 45: 'under', 46: 'under', 47: 'under', 48: 'under'}\n",
      "\n",
      "action sampled: 0\n"
     ]
    }
   ],
   "source": [
    "for i_episode in range(1):\n",
    "    obs = env.reset()\n",
    "    env.render()\n",
    "    for t_timesteps in range(1):\n",
    "        action = step(obs)  # agent.step(obs)\n",
    "        obs, reward, done, info = env.step(action)\n",
    "env.close()"
   ]
  },
  {
   "cell_type": "code",
   "execution_count": 47,
   "metadata": {},
   "outputs": [
    {
     "data": {
      "text/plain": [
       "{1: 'top',\n",
       " 2: 'top',\n",
       " 3: 'top',\n",
       " 4: 'top',\n",
       " 5: 'top',\n",
       " 6: 'top',\n",
       " 7: 'top',\n",
       " 8: 'top',\n",
       " 9: 'left',\n",
       " 10: 'front',\n",
       " 11: 'front',\n",
       " 12: 'front',\n",
       " 13: 'right',\n",
       " 14: 'right',\n",
       " 15: 'right',\n",
       " 16: 'back',\n",
       " 17: 'back',\n",
       " 18: 'back',\n",
       " 19: 'left',\n",
       " 20: 'left',\n",
       " 21: 'left',\n",
       " 22: 'front',\n",
       " 23: 'front',\n",
       " 24: 'right',\n",
       " 25: 'right',\n",
       " 26: 'back',\n",
       " 27: 'back',\n",
       " 28: 'left',\n",
       " 29: 'left',\n",
       " 30: 'front',\n",
       " 31: 'front',\n",
       " 32: 'front',\n",
       " 33: 'right',\n",
       " 34: 'right',\n",
       " 35: 'right',\n",
       " 36: 'back',\n",
       " 37: 'back',\n",
       " 38: 'back',\n",
       " 39: 'left',\n",
       " 40: 'left',\n",
       " 41: 'under',\n",
       " 42: 'under',\n",
       " 43: 'under',\n",
       " 44: 'under',\n",
       " 45: 'under',\n",
       " 46: 'under',\n",
       " 47: 'under',\n",
       " 48: 'under'}"
      ]
     },
     "execution_count": 47,
     "metadata": {},
     "output_type": "execute_result"
    }
   ],
   "source": [
    "env.solved_state"
   ]
  },
  {
   "cell_type": "code",
   "execution_count": 45,
   "metadata": {},
   "outputs": [
    {
     "data": {
      "text/plain": [
       "{1: 'front',\n",
       " 2: 'top',\n",
       " 3: 'top',\n",
       " 4: 'top',\n",
       " 5: 'top',\n",
       " 6: 'top',\n",
       " 7: 'front',\n",
       " 8: 'front',\n",
       " 9: 'left',\n",
       " 10: 'under',\n",
       " 11: 'front',\n",
       " 12: 'front',\n",
       " 13: 'right',\n",
       " 14: 'right',\n",
       " 15: 'right',\n",
       " 16: 'back',\n",
       " 17: 'back',\n",
       " 18: 'top',\n",
       " 19: 'left',\n",
       " 20: 'left',\n",
       " 21: 'left',\n",
       " 22: 'under',\n",
       " 23: 'front',\n",
       " 24: 'right',\n",
       " 25: 'right',\n",
       " 26: 'back',\n",
       " 27: 'top',\n",
       " 28: 'left',\n",
       " 29: 'left',\n",
       " 30: 'under',\n",
       " 31: 'front',\n",
       " 32: 'front',\n",
       " 33: 'right',\n",
       " 34: 'right',\n",
       " 35: 'right',\n",
       " 36: 'back',\n",
       " 37: 'back',\n",
       " 38: 'top',\n",
       " 39: 'left',\n",
       " 40: 'left',\n",
       " 41: 'back',\n",
       " 42: 'under',\n",
       " 43: 'under',\n",
       " 44: 'under',\n",
       " 45: 'under',\n",
       " 46: 'under',\n",
       " 47: 'back',\n",
       " 48: 'back'}"
      ]
     },
     "execution_count": 45,
     "metadata": {},
     "output_type": "execute_result"
    }
   ],
   "source": [
    "obs"
   ]
  },
  {
   "cell_type": "code",
   "execution_count": null,
   "metadata": {},
   "outputs": [],
   "source": []
  }
 ],
 "metadata": {
  "kernelspec": {
   "display_name": "Python 3",
   "language": "python",
   "name": "python3"
  },
  "language_info": {
   "codemirror_mode": {
    "name": "ipython",
    "version": 3
   },
   "file_extension": ".py",
   "mimetype": "text/x-python",
   "name": "python",
   "nbconvert_exporter": "python",
   "pygments_lexer": "ipython3",
   "version": "3.8.4"
  }
 },
 "nbformat": 4,
 "nbformat_minor": 4
}
