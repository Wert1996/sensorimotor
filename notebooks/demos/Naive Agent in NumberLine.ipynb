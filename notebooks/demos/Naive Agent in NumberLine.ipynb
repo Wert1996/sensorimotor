{
 "cells": [
  {
   "cell_type": "markdown",
   "metadata": {},
   "source": [
    "# Naive Agent in the NumberLine Environment\n",
    "\n",
    "This is the simplest agent exploring the Numberline environment. The Naive agent moves randomly and memorizes where it has been in a tree. The NumberLine environment has 5 available actions corresponding to +0 +1 -1 +10 and -9, with these five actions the naïve agent traverses the natural numbers. Once it has explored at random for 1000 actions you can ask it to move anywhere on the number line it has seen before: moving on the number line is exactly the same thing as manipulating the environment since in this environment the only thing the agent can manipulate is it's position in the environment. Still, no matter the complexity of the environment the agent can be thought of as merely traversing its state-space just as it traverses the natural numbers in this simple environment."
   ]
  },
  {
   "cell_type": "markdown",
   "metadata": {},
   "source": [
    "First we import the agent and the environment..."
   ]
  },
  {
   "cell_type": "code",
   "execution_count": 1,
   "metadata": {},
   "outputs": [],
   "source": [
    "from sensorimotor.agents import NaiveSensorimotor\n",
    "from sensorimotor.envs import NumberLine\n",
    "\n",
    "import time"
   ]
  },
  {
   "cell_type": "markdown",
   "metadata": {},
   "source": [
    "Initialize the Environment and the Agent..."
   ]
  },
  {
   "cell_type": "code",
   "execution_count": 2,
   "metadata": {},
   "outputs": [],
   "source": [
    "env = NumberLine()\n",
    "env.seed(0)\n",
    "agent = NaiveSensorimotor(env)"
   ]
  },
  {
   "cell_type": "markdown",
   "metadata": {},
   "source": [
    "Training: allow the agent to explore (at random in this case)..."
   ]
  },
  {
   "cell_type": "code",
   "execution_count": 3,
   "metadata": {},
   "outputs": [
    {
     "name": "stdout",
     "output_type": "stream",
     "text": [
      "1451\r"
     ]
    }
   ],
   "source": [
    "for i_episode in range(1):\n",
    "    obs = env.reset()\n",
    "    #env.render()\n",
    "    for t_timesteps in range(1000):\n",
    "        action = agent.random_step(obs)\n",
    "        obs, reward, done, info = env.step(action)\n",
    "        \n",
    "        # notice its moving through the environment state-space...\n",
    "        time.sleep(.001)\n",
    "        print(obs, end='\\r')"
   ]
  },
  {
   "cell_type": "markdown",
   "metadata": {},
   "source": [
    "Now that it's done training, (via it's random walk) inspect which state of the environment it ended up on..."
   ]
  },
  {
   "cell_type": "code",
   "execution_count": 4,
   "metadata": {},
   "outputs": [
    {
     "data": {
      "text/plain": [
       "135"
      ]
     },
     "execution_count": 4,
     "metadata": {},
     "output_type": "execute_result"
    }
   ],
   "source": [
    "#entire_tree = agent.previous\n",
    "final_state = agent.previous.name\n",
    "final_state"
   ]
  },
  {
   "cell_type": "markdown",
   "metadata": {},
   "source": [
    "Let's look at a state of the environment it visited prior to its current location..."
   ]
  },
  {
   "cell_type": "code",
   "execution_count": 5,
   "metadata": {},
   "outputs": [
    {
     "data": {
      "text/plain": [
       "137"
      ]
     },
     "execution_count": 5,
     "metadata": {},
     "output_type": "execute_result"
    }
   ],
   "source": [
    "three_b4_final = agent.previous.parent.parent.parent.name\n",
    "three_b4_final"
   ]
  },
  {
   "cell_type": "markdown",
   "metadata": {},
   "source": [
    "Let's inspect how it got there by looking at the full detail of this node (the naive agent makes an explicit memory everytime it sees a new state)..."
   ]
  },
  {
   "cell_type": "code",
   "execution_count": 6,
   "metadata": {},
   "outputs": [
    {
     "data": {
      "text/plain": [
       "Node('/root/0/-9/-18/-27/-26/-27/-17/-17/-17/-16/-6/-15/-24/-14/-4/6/7/7/6/16/15/16/17/18/19/10/10/20/21/31/32/31/31/22/23/24/15/16/7/6/7/17/16/17/17/27/28/27/18/19/10/11/12/3/-6/-5/-6/-15/-16/-25/-26/-25/-15/-14/-13/-13/-12/-12/-21/-21/-21/-20/-20/-21/-22/-21/-22/-21/-30/-39/-48/-49/-48/-47/-48/-57/-57/-56/-65/-64/-63/-62/-63/-62/-63/-53/-53/-53/-62/-63/-63/-63/-63/-62/-62/-71/-72/-71/-71/-71/-71/-70/-79/-79/-78/-87/-86/-87/-86/-95/-96/-105/-95/-96/-86/-87/-88/-87/-88/-88/-97/-106/-115/-116/-117/-116/-115/-105/-106/-115/-115/-115/-124/-124/-133/-123/-113/-114/-123/-123/-122/-131/-130/-130/-129/-128/-118/-119/-118/-127/-136/-145/-135/-134/-135/-135/-135/-144/-145/-145/-154/-163/-153/-153/-162/-152/-151/-151/-141/-131/-131/-121/-121/-111/-101/-91/-92/-92/-82/-81/-80/-89/-88/-78/-79/-69/-69/-68/-68/-67/-67/-76/-85/-86/-87/-96/-86/-87/-77/-78/-77/-77/-78/-78/-79/-78/-78/-77/-67/-76/-66/-67/-68/-68/-58/-58/-59/-49/-58/-57/-58/-58/-58/-67/-68/-69/-68/-68/-67/-76/-77/-76/-75/-65/-66/-75/-65/-66/-75/-84/-74/-64/-64/-63/-63/-62/-52/-42/-32/-22/-31/-21/-20/-29/-29/-38/-37/-27/-36/-37/-46/-47/-48/-49/-39/-40/-39/-38/-37/-27/-28/-27/-26/-25/-24/-33/-42/-51/-52/-61/-60/-50/-51/-60/-60/-69/-78/-79/-88/-87/-87/-87/-77/-76/-85/-75/-76/-66/-75/-75/-76/-75/-76/-76/-75/-74/-73/-74/-74/-64/-65/-66/-67/-57/-58/-57/-58/-48/-57/-58/-67/-67/-67/-57/-57/-58/-58/-59/-60/-69/-78/-79/-69/-59/-60/-50/-40/-39/-38/-47/-37/-37/-27/-26/-16/-25/-34/-43/-43/-33/-42/-42/-43/-43/-52/-51/-51/-51/-52/-53/-62/-52/-53/-43/-43/-42/-43/-43/-44/-44/-43/-43/-33/-32/-41/-42/-43/-33/-42/-32/-33/-33/-32/-41/-31/-30/-31/-30/-29/-30/-29/-38/-38/-39/-29/-29/-30/-39/-48/-57/-58/-59/-60/-61/-62/-52/-42/-41/-41/-41/-42/-43/-43/-43/-44/-34/-33/-42/-51/-41/-31/-40/-40/-40/-30/-39/-29/-19/-18/-17/-7/-8/-17/-16/-6/-6/-15/-14/-15/-5/5/15/25/16/7/7/8/8/7/-2/-3/7/6/7/17/17/18/18/9/10/10/11/11/11/11/2/-7/-8/-8/-7/-16/-15/-14/-15/-15/-15/-14/-13/-3/-3/-3/-4/-5/-4/-5/-14/-15/-24/-23/-24/-14/-15/-5/-4/-4/6/16/17/17/17/16/7/-2/8/9/9/10/20/20/19/10/1/0/10/20/11/21/31/30/40/31/32/32/31/22/32/23/23/14/15/6/16/26/36/37/38/37/36/36/35/26/25/16/26/27/27/28/27/18/18/28/38/39/39/40/41/51/50/60/60/51/51/61/52/53/63/64/65/64/64/63/54/64/55/56/55/54/64/64/63/63/64/64/55/65/64/55/65/66/66/76/86/86/87/87/86/85/85/76/76/86/86/77/87/87/78/77/87/97/88/98/98/98/99/99/99/90/91/101/101/111/110/109/108/108/107/108/118/119/119/120/111/112/103/102/102/102/103/113/104/95/94/95/105/115/106/116/116/115/125/124/115/116/107/98/99/109/119/129/139/140/140/131/122/113/104/105/105/106/116/117/127/118/119/110/111/102/103/102/103/104/105/104/104/105/96/106/97/96/87/86/85/76/86/85/85/95/94/94/85/86/77/68/78/69/70/71/70/69/68/78/77/87/88/79/78/77/78/78/88/89/90/81/91/91/101/100/99/99/90/89/80/79/89/90/90/91/92/92/102/101/111/111/110/111/112/111/102/101/100/101/101/100/91/90/89/88/87/86/85/84/85/84/94/93/92/83/82/83/84/83/84/84/84/85/95/95/96/106/97/96/87/86/87/78/77/77/77/87/88/87/97/98/98/97/98/98/99/98/89/80/90/89/88/79/70/70/70/70/80/79/80/90/100/91/101/111/112/103/94/104/104/105/96/106/97/107/107/106/97/107/107/107/117/108/107/107/108/107/107/98/108/109/109/108/109/110/101/100/101/100/99/90/91/101/100/99/100/99/100/110/109/110/109/109/109/119/110/109/108/107/107/117/118/117/127/118/118/128/128/119/110/120/130/131/141/132/131/122/132/131/131/122/123/122/122/132/131/132/132/123/133/143/144/135/135/136/136/146/137/147/148/139/130/130/130/129/129/130/130/129/120/130/129/130/140/139/130/131/130/129/128/128/119/119/119/110/111/112/122/121/131/132/142/143/143/144/145/155/154/153/154/164/164/163/163/173/172/171/170/169/168/159/160/160/151/151/161/171/162/153/163/162/153/163/162/163/154/145/155/165/165/156/147/147/138/137/137/136/135', edge=2)"
      ]
     },
     "execution_count": 6,
     "metadata": {},
     "output_type": "execute_result"
    }
   ],
   "source": [
    "agent.previous"
   ]
  },
  {
   "cell_type": "markdown",
   "metadata": {},
   "source": [
    "Notice the last action it took (to get to its current state) is listed as 'edge' above.\n",
    "```\n",
    "    0 = do nothing\n",
    "    1 = +1\n",
    "    2 = -1\n",
    "    3 = +10\n",
    "    4 = -9\n",
    "```\n",
    "And let's ask the agent to figure out how to get from somehting it has seen before to the last state of the environment that it saw..."
   ]
  },
  {
   "cell_type": "code",
   "execution_count": 7,
   "metadata": {},
   "outputs": [
    {
     "name": "stdout",
     "output_type": "stream",
     "text": [
      "going from 137 to 135 using the environment actions...\n",
      "[2, 2]\n",
      "...which correspond to...\n",
      "['-1', '-1']\n"
     ]
    }
   ],
   "source": [
    "print('going from', three_b4_final, 'to', final_state, 'using the environment actions...')\n",
    "print(agent.get_path(target=final_state, start=three_b4_final))\n",
    "print('...which correspond to...')\n",
    "print([\n",
    "    {0: '+0', 1: '+1', 2: '-1', 3: '+10', 4: '-9'}.get(action, '+0')\n",
    "    for action in agent.get_path(target=final_state, start=three_b4_final)])"
   ]
  },
  {
   "cell_type": "markdown",
   "metadata": {},
   "source": [
    "Pretty cool, the agent knows how to manipulate the environment from one state to produce another state (that is, it knows how to traverse the state space of the environment, at least in this case)...\n",
    "\n",
    "Now let's actually ask it to do so. We'll reset the state to something it has seen before..."
   ]
  },
  {
   "cell_type": "code",
   "execution_count": 8,
   "metadata": {},
   "outputs": [
    {
     "data": {
      "text/plain": [
       "137"
      ]
     },
     "execution_count": 8,
     "metadata": {},
     "output_type": "execute_result"
    }
   ],
   "source": [
    "agent.reset(three_b4_final)"
   ]
  },
  {
   "cell_type": "markdown",
   "metadata": {},
   "source": [
    "Then we'll ask it to execute the steps to get to the last state of the environment saw..."
   ]
  },
  {
   "cell_type": "code",
   "execution_count": 9,
   "metadata": {},
   "outputs": [
    {
     "name": "stdout",
     "output_type": "stream",
     "text": [
      "[2, 2]\n"
     ]
    },
    {
     "data": {
      "text/plain": [
       "135"
      ]
     },
     "execution_count": 9,
     "metadata": {},
     "output_type": "execute_result"
    }
   ],
   "source": [
    "agent.do(final_state, verbose=True)"
   ]
  },
  {
   "cell_type": "markdown",
   "metadata": {},
   "source": [
    "Let's try a longer environment manipulation: from the first thing the agent ever saw to the last thing the agent ever saw..."
   ]
  },
  {
   "cell_type": "code",
   "execution_count": 10,
   "metadata": {},
   "outputs": [
    {
     "name": "stdout",
     "output_type": "stream",
     "text": [
      "[3, 3, 4, 3, 3, 2, 3, 4, 1, 2, 4, 3, 4, 4, 1, 4, 3, 3, 3, 1, 1, 2, 2, 2, 4, 2, 4, 3, 1, 1, 2, 4, 3, 3, 1, 1, 1, 3, 2, 3, 4, 3, 4, 1, 3, 1, 1, 2, 2, 4, 3, 4, 1, 2, 2, 3, 2, 1, 4, 3, 2, 4, 3, 1, 3, 3, 1, 2, 2, 4, 3, 4, 3, 4, 2, 3, 3, 4, 3, 1, 4, 1, 3, 3, 2, 2, 2, 2, 1, 3, 1, 1, 4, 1, 4, 2, 1, 3, 4, 4, 2, 1, 3, 3, 4, 3, 2, 3, 2, 4, 1, 4, 4, 1, 3, 3, 3, 3, 1, 4, 4, 4, 4, 1, 1, 3, 1, 3, 4, 1, 4, 1, 4, 1, 2, 1, 1, 1, 2, 1, 4, 3, 4, 2, 4, 2, 2, 4, 3, 2, 3, 2, 4, 1, 4, 4, 3, 4, 1, 1, 2, 2, 2, 3, 2, 3, 1, 4, 2, 2, 1, 3, 1, 1, 4, 3, 3, 2, 2, 4, 2, 4, 2, 3, 1, 1, 1, 3, 2, 3, 2, 1, 1, 2, 4, 2, 2, 1, 2, 4, 2, 2, 2, 2, 2, 2, 2, 1, 2, 3, 2, 2, 4, 2, 1, 1, 2, 1, 1, 3, 1, 3, 4, 2, 4, 2, 1, 4, 2, 3, 1, 2, 3, 1, 2, 1, 1, 2, 4, 4, 3, 2, 2, 4, 4, 3, 2, 1, 3, 3, 4, 3, 3, 1, 4, 4, 3, 1, 4, 3, 4, 3, 2, 4, 3, 3, 4, 2, 1, 2, 4, 3, 1, 2, 1, 1, 4, 2, 1, 2, 2, 4, 1, 3, 2, 2, 1, 2, 1, 3, 2, 1, 2, 3, 4, 2, 2, 2, 3, 1, 2, 3, 4, 3, 4, 4, 3, 3, 1, 3, 4, 2, 4, 3, 2, 4, 1, 2, 3, 2, 1, 4, 3, 3, 1, 4]\n"
     ]
    }
   ],
   "source": [
    "print(agent.get_path(target=final_state, start=0))"
   ]
  },
  {
   "cell_type": "markdown",
   "metadata": {},
   "source": [
    "The above action-path may be less than 1000 steps, this is because the agent looks for the shortest path it has ever seen between the two state representations."
   ]
  },
  {
   "cell_type": "markdown",
   "metadata": {},
   "source": [
    "We'll close the environment..."
   ]
  },
  {
   "cell_type": "code",
   "execution_count": 11,
   "metadata": {},
   "outputs": [],
   "source": [
    "env.close()"
   ]
  },
  {
   "cell_type": "markdown",
   "metadata": {},
   "source": [
    "## Review\n",
    "\n",
    "The naive agent makes explicit memory, it doesn't generalize in any way. It doesn't understand patterns. It can't detect that this one kind of action is exactly the opposite from another kind of action. It can't extrapolate or draw conclusions. It is not intelligent.\n",
    "\n",
    "If the environment is small the agent is able to memorize the environment and produce any configuration of it that you would like. This is the essential role of any sensorimotor inference engine: that it can manipulate the environment it is connected to merely by you showing it the state of the environment you would like to see.\n",
    "\n",
    "In order to achieve scale such that a Sensorimotor agent can manipulate any size and complexity of a deterministic environment we need to infuse it with more intelligence."
   ]
  },
  {
   "cell_type": "code",
   "execution_count": 12,
   "metadata": {},
   "outputs": [],
   "source": [
    "# import anytree\n",
    "# print(anytree.RenderTree(agent.root, style=anytree.render.AsciiStyle()))"
   ]
  }
 ],
 "metadata": {
  "kernelspec": {
   "display_name": "Python 3",
   "language": "python",
   "name": "python3"
  },
  "language_info": {
   "codemirror_mode": {
    "name": "ipython",
    "version": 3
   },
   "file_extension": ".py",
   "mimetype": "text/x-python",
   "name": "python",
   "nbconvert_exporter": "python",
   "pygments_lexer": "ipython3",
   "version": "3.8.4"
  }
 },
 "nbformat": 4,
 "nbformat_minor": 4
}
